{
 "cells": [
  {
   "cell_type": "markdown",
   "metadata": {},
   "source": [
    "# Library"
   ]
  },
  {
   "cell_type": "code",
   "execution_count": 1,
   "metadata": {},
   "outputs": [],
   "source": [
    "import sys\n",
    "\n",
    "sys.path.append(\"quickstart\")\n",
    "sys.path.append(\"quickstart/code/learn\")\n",
    "sys.path.append(\"quickstart/code/preprocess\")\n"
   ]
  },
  {
   "cell_type": "code",
   "execution_count": 2,
   "metadata": {},
   "outputs": [],
   "source": [
    "import torch\n",
    "import numpy as np\n"
   ]
  },
  {
   "cell_type": "code",
   "execution_count": 3,
   "metadata": {},
   "outputs": [
    {
     "name": "stdout",
     "output_type": "stream",
     "text": [
      "Jupyter environment detected. Enabling Open3D WebVisualizer.\n",
      "[Open3D INFO] WebRTC GUI backend enabled.\n",
      "[Open3D INFO] WebRTCWindowSystem: HTTP handshake server disabled.\n",
      "['/opt/conda/envs/bim/lib/python38.zip', '/opt/conda/envs/bim/lib/python3.8', '/opt/conda/envs/bim/lib/python3.8/lib-dynload', '', '/opt/conda/envs/bim/lib/python3.8/site-packages', '/opt/conda/envs/bim/lib/python3.8/site-packages/MultiScaleDeformableAttention-1.0-py3.8-linux-x86_64.egg', '/opt/conda/envs/bim/lib/python3.8/site-packages/setuptools/_vendor', 'quickstart', 'quickstart/code/learn', 'quickstart/code/preprocess', '../preprocess']\n"
     ]
    }
   ],
   "source": [
    "import my_utils\n",
    "from datasets.building_corners_full import collate_fn_seq\n"
   ]
  },
  {
   "cell_type": "code",
   "execution_count": 4,
   "metadata": {},
   "outputs": [],
   "source": [
    "from quickstart.code.learn.density_full import (\n",
    "    get_density_slices,\n",
    "    stack_density_slices,\n",
    "    padding_density_full,\n",
    ")\n"
   ]
  },
  {
   "cell_type": "markdown",
   "metadata": {},
   "source": [
    "# density_full"
   ]
  },
  {
   "cell_type": "code",
   "execution_count": 5,
   "metadata": {},
   "outputs": [],
   "source": [
    "floor_idx = 11\n",
    "data_path = \"quickstart/data\"\n",
    "floor_name = \"32_ShortOffice_05_F2\"\n",
    "floor_name = \"S_01_0001_1_I\"\n"
   ]
  },
  {
   "cell_type": "code",
   "execution_count": 11,
   "metadata": {},
   "outputs": [],
   "source": [
    "density_slices = get_density_slices(data_path, floor_name)\n",
    "_density_full = stack_density_slices(density_slices)\n",
    "_density_full = padding_density_full(_density_full)\n",
    "\n",
    "if floor_name == \"32_ShortOffice_05_F2\":\n",
    "    assert _density_full.shape == (1462, 1462, 3)\n",
    "elif floor_name == \"S_01_0001_1_I\":\n",
    "    assert _density_full.shape == (1462, 1462, 3)\n",
    "    # assert _density_full.shape == (256, 256, 3)\n"
   ]
  },
  {
   "cell_type": "markdown",
   "metadata": {},
   "source": [
    "# norm_scale"
   ]
  },
  {
   "cell_type": "code",
   "execution_count": 13,
   "metadata": {},
   "outputs": [],
   "source": [
    "# corners = np.load(\"corners.npy\")\n",
    "corners = np.load(f\"quickstart/data/pred_corners/{floor_name}.npy\")\n",
    "image = _density_full.copy()\n",
    "image, _corners, norm_scale = my_utils.normalize_floor(image, corners)\n"
   ]
  },
  {
   "cell_type": "markdown",
   "metadata": {},
   "source": [
    "# edge_model"
   ]
  },
  {
   "cell_type": "code",
   "execution_count": 14,
   "metadata": {},
   "outputs": [],
   "source": [
    "import time\n",
    "from quickstart.code.learn.models.unet import ResNetBackbone\n",
    "from quickstart.code.learn.models.edge_full_models import EdgeEnum\n"
   ]
  },
  {
   "cell_type": "code",
   "execution_count": 15,
   "metadata": {},
   "outputs": [
    {
     "name": "stderr",
     "output_type": "stream",
     "text": [
      "/opt/conda/envs/bim/lib/python3.8/site-packages/torchvision/models/_utils.py:208: UserWarning: The parameter 'pretrained' is deprecated since 0.13 and may be removed in the future, please use 'weights' instead.\n",
      "  warnings.warn(\n",
      "/opt/conda/envs/bim/lib/python3.8/site-packages/torchvision/models/_utils.py:223: UserWarning: Arguments other than a weight enum or `None` for 'weights' are deprecated since 0.13 and may be removed in the future. The current behavior is equivalent to passing `weights=ResNet50_Weights.IMAGENET1K_V1`. You can also use `weights=ResNet50_Weights.DEFAULT` to get the most up-to-date weights.\n",
      "  warnings.warn(msg)\n"
     ]
    },
    {
     "name": "stdout",
     "output_type": "stream",
     "text": [
      "Attention: DETR_dense\n",
      "Attention layer deform type: DETR_dense\n",
      "Attention layer num samples: 16\n",
      "Attention layer pool_type: max\n",
      "Decoder layer deform type: DETR_dense\n",
      "Decoder layer num samples: 16\n",
      "Decoder layer pool_type: max\n"
     ]
    },
    {
     "name": "stderr",
     "output_type": "stream",
     "text": [
      "/tmp/ipykernel_200933/1376947523.py:33: FutureWarning: You are using `torch.load` with `weights_only=False` (the current default value), which uses the default pickle module implicitly. It is possible to construct malicious pickle data which will execute arbitrary code during unpickling (See https://github.com/pytorch/pytorch/blob/main/SECURITY.md#untrusted-models for more details). In a future release, the default value for `weights_only` will be flipped to `True`. This limits the functions that could be executed during unpickling. Arbitrary objects will no longer be allowed to be loaded via this mode unless they are explicitly allowlisted by the user via `torch.serialization.add_safe_globals`. We recommend you start setting `weights_only=True` for any use case where you don't have full control of the loaded file. Please open an issue on GitHub for any issues related to this experimental feature.\n",
      "  ckpt = torch.load(ckpt_path)\n"
     ]
    },
    {
     "name": "stdout",
     "output_type": "stream",
     "text": [
      "Edge ckpt path: 149 from quickstart/ckpts/edge_sample_16/11/checkpoint.pth\n"
     ]
    }
   ],
   "source": [
    "# edge model hyperparameters\n",
    "deform_type = \"DETR_dense\"\n",
    "num_samples = 16\n",
    "pool_type = \"max\"\n",
    "edge_model_path = \"ckpts/edge_sample_16\"\n",
    "ckpt_path = \"quickstart/ckpts/edge_sample_16/11/checkpoint.pth\"\n",
    "\n",
    "\n",
    "def init_edge_models(ckpt_path=\"\", floor_idx=-1):\n",
    "    backbone = ResNetBackbone()\n",
    "    strides = backbone.strides\n",
    "    num_channels = backbone.num_channels\n",
    "    backbone = backbone.cuda()\n",
    "    backbone.eval()\n",
    "\n",
    "    edge_model = EdgeEnum(\n",
    "        input_dim=128,\n",
    "        hidden_dim=256,\n",
    "        num_feature_levels=4,\n",
    "        backbone_strides=strides,\n",
    "        backbone_num_channels=num_channels,\n",
    "        deform_type=deform_type,\n",
    "        num_samples=num_samples,\n",
    "        pool_type=pool_type,\n",
    "    )\n",
    "    edge_model = edge_model.cuda()\n",
    "    edge_model.eval()\n",
    "\n",
    "    if not ckpt_path:\n",
    "        assert floor_idx > -1\n",
    "        ckpt_path = f\"{edge_model_path}/{floor_idx}/checkpoint.pth\"\n",
    "\n",
    "    ckpt = torch.load(ckpt_path)\n",
    "    print(\"Edge ckpt path: %d from %s\" % (ckpt[\"epoch\"], ckpt_path))\n",
    "    backbone.load_state_dict(ckpt[\"backbone\"])\n",
    "    edge_model.load_state_dict(ckpt[\"edge_model\"])\n",
    "\n",
    "    return backbone, edge_model\n",
    "\n",
    "\n",
    "edge_backbone, edge_model = init_edge_models(ckpt_path=ckpt_path, floor_idx=floor_idx)\n"
   ]
  },
  {
   "cell_type": "markdown",
   "metadata": {},
   "source": [
    "# cache_image_feats"
   ]
  },
  {
   "cell_type": "code",
   "execution_count": 16,
   "metadata": {},
   "outputs": [],
   "source": [
    "def cache_image_feats(corners):\n",
    "    image = _density_full.copy()  # (1462, 1462, 3)\n",
    "\n",
    "    image, _corners, scale = my_utils.normalize_floor(image, corners)\n",
    "    # ~^ (1023, 1023, 3), (105, 2), 0.700\n",
    "    image = my_utils.process_image(image)  # (3, 1023, 1023)\n",
    "\n",
    "    data = {\"img\": image}\n",
    "    data = collate_fn_seq([data])\n",
    "\n",
    "    # Extract image features\n",
    "    with torch.no_grad():\n",
    "        image = data[\"img\"].cuda()\n",
    "        image_feats, feat_mask, _ = edge_backbone(image)\n",
    "\n",
    "    norm_scale = scale\n",
    "    image_feats: dict = image_feats\n",
    "    # image_feats['0'].shape  torch.Size([1, 512, 128, 128])\n",
    "    # image_feats['1'].shape  torch.Size([1, 1024, 64, 64])\n",
    "    # image_feats['2'].shape  torch.Size([1, 2048, 32, 32])\n",
    "    feat_mask = feat_mask  # torch.Size([1, 1023, 1023])\n",
    "    return image_feats, feat_mask\n"
   ]
  },
  {
   "cell_type": "code",
   "execution_count": 17,
   "metadata": {},
   "outputs": [],
   "source": [
    "image_feats, feat_mask = cache_image_feats(corners)\n"
   ]
  },
  {
   "cell_type": "markdown",
   "metadata": {},
   "source": [
    "# get_pred_coords"
   ]
  },
  {
   "cell_type": "code",
   "execution_count": 18,
   "metadata": {},
   "outputs": [],
   "source": [
    "def get_pred_coords(pred_corners, branch=\"relation\", threshold=0.5, postprocess=True):\n",
    "    image = _density_full.copy()\n",
    "    pred_corners_raw = pred_corners.copy()\n",
    "\n",
    "    # _, pred_corners, _ = my_utils.normalize_floor(image, pred_corners)\n",
    "    # image = my_utils.process_image(image)\n",
    "    pred_corners, _ = my_utils.normalize_corners(pred_corners, norm_scale)\n",
    "\n",
    "    all_edges = my_utils.all_combinations[len(pred_corners)]\n",
    "    edge_coords = pred_corners[all_edges].reshape(-1, 4)\n",
    "\n",
    "    data = {\n",
    "        \"floor_name\": floor_name,\n",
    "        # \"img\": image,\n",
    "        \"edge_coords\": edge_coords,\n",
    "        \"processed_corners_lengths\": len(pred_corners),\n",
    "    }\n",
    "    data = collate_fn_seq([data])\n",
    "\n",
    "    edge_coords = data[\"edge_coords\"].cuda()\n",
    "    edge_mask = data[\"edge_coords_mask\"].cuda()\n",
    "    blank_labels = torch.full_like(edge_mask, fill_value=2, dtype=torch.long)\n",
    "\n",
    "    corner_nums = data[\"processed_corners_lengths\"]\n",
    "    max_candidates = torch.stack([corner_nums.max() * 3] * len(corner_nums), dim=0)\n",
    "\n",
    "    # network inference\n",
    "    with torch.no_grad():\n",
    "        # image = data[\"img\"].cuda()\n",
    "        # image_feats, feat_mask, _ = edge_backbone(image)\n",
    "\n",
    "        (\n",
    "            logits_s1,\n",
    "            logits_edge_hb,\n",
    "            logits_edge_rel,\n",
    "            logits_width_hb,\n",
    "            logits_width_rel,\n",
    "            s2_ids,\n",
    "            s2_edge_mask,\n",
    "            s2_gt_values,\n",
    "            ref_dict,\n",
    "        ) = edge_model(\n",
    "            image_feats,\n",
    "            feat_mask,\n",
    "            edge_coords,\n",
    "            edge_mask,\n",
    "            blank_labels,\n",
    "            corner_nums,\n",
    "            max_candidates,\n",
    "            mask_gt=False,\n",
    "        )\n",
    "\n",
    "    # my_utils.vis_ref(image, edge_coords, ref_dict, s2_ids)\n",
    "\n",
    "    if branch == \"relation\":\n",
    "        s2_edges = all_edges[s2_ids[0].cpu().numpy()]\n",
    "        edge_probs = logits_edge_rel.softmax(1)[0, 1, :].cpu().numpy()\n",
    "        pred_edges = s2_edges[edge_probs >= threshold]\n",
    "        # edge_preds = logits_edge_rel.argmax(1)[0].cpu().numpy()\n",
    "        # pred_edges = s2_edges[edge_preds == 1]\n",
    "        pred_coords = pred_corners_raw[pred_edges].reshape(-1, 4)\n",
    "\n",
    "        pred_widths = logits_width_rel.argmax(1)[0].cpu().numpy()\n",
    "        pred_widths = pred_widths[edge_probs >= threshold]\n",
    "        # pred_widths = pred_widths[edge_preds == 1]\n",
    "\n",
    "    elif branch == \"hybrid\":\n",
    "        s2_edges = all_edges[s2_ids[0].cpu().numpy()]\n",
    "        edge_probs = logits_edge_hb.softmax(1)[0, 1, :].cpu().numpy()\n",
    "        pred_edges = s2_edges[edge_probs >= threshold]\n",
    "        # edge_preds = logits_edge_hb.argmax(1)[0].cpu().numpy()\n",
    "        # pred_edges = s2_edges[edge_preds == 1]\n",
    "        pred_coords = pred_corners_raw[pred_edges].reshape(-1, 4)\n",
    "\n",
    "        pred_widths = logits_width_hb.argmax(1)[0].cpu().numpy()\n",
    "        pred_widths = pred_widths[edge_probs >= threshold]\n",
    "        # pred_widths = pred_widths[edge_preds == 1]\n",
    "\n",
    "    elif branch == \"image\":\n",
    "        raise Exception(\"Nope\")\n",
    "        edge_probs = logits_s1.softmax(1)[0, 1, :].cpu().numpy()\n",
    "        pred_edges = all_edges[edge_probs >= threshold]\n",
    "        pred_coords = pred_corners_raw[pred_edges].reshape(-1, 4)\n",
    "\n",
    "    else:\n",
    "        raise Exception(\"Unknown branch\")\n",
    "\n",
    "    # post-processing to:\n",
    "    # 1. merge overlapping lines\n",
    "    # 2. snap almost horizontal or vertical lines\n",
    "    if postprocess:\n",
    "        pred_coords, pred_widths = my_utils.remove_overlaps(pred_coords, pred_widths)\n",
    "        # pred_coords = my_utils.merge_edges(pred_coords)\n",
    "        pred_coords = my_utils.snap_to_axis(pred_coords)\n",
    "\n",
    "    # visualize prediction\n",
    "    # color_coords = [[\"-v\", pred_coords]]\n",
    "    # my_utils.vis_edges(self.density_full, color_coords)\n",
    "    # my_utils.vis_edges_idx(self.density_full, pred_coords)\n",
    "\n",
    "    return pred_coords, pred_edges, pred_widths\n"
   ]
  },
  {
   "cell_type": "code",
   "execution_count": 19,
   "metadata": {},
   "outputs": [
    {
     "name": "stderr",
     "output_type": "stream",
     "text": [
      "/opt/conda/envs/bim/lib/python3.8/site-packages/torch/functional.py:513: UserWarning: torch.meshgrid: in an upcoming release, it will be required to pass the indexing argument. (Triggered internally at ../aten/src/ATen/native/TensorShape.cpp:3609.)\n",
      "  return _VF.meshgrid(tensors, **kwargs)  # type: ignore[attr-defined]\n"
     ]
    },
    {
     "name": "stdout",
     "output_type": "stream",
     "text": [
      "heat_coords: (8, 4), heat_edges: (8, 2), heat_widths: (8,)\n"
     ]
    }
   ],
   "source": [
    "heat_coords, heat_edges, heat_widths = get_pred_coords(corners)\n",
    "print(\n",
    "    f\"heat_coords: {heat_coords.shape}, heat_edges: {heat_edges.shape}, heat_widths: {heat_widths.shape}\"\n",
    ")\n"
   ]
  },
  {
   "cell_type": "markdown",
   "metadata": {},
   "source": [
    "# Visualize"
   ]
  },
  {
   "cell_type": "code",
   "execution_count": 20,
   "metadata": {},
   "outputs": [
    {
     "data": {
      "image/png": "[encoded data removed]",
      "text/plain": [
       "<Figure size 300x300 with 1 Axes>"
      ]
     },
     "metadata": {},
     "output_type": "display_data"
    }
   ],
   "source": [
    "import matplotlib.pyplot as plt\n",
    "\n",
    "\n",
    "fig, ax = plt.subplots(figsize=(3, 3))\n",
    "ab_args = heat_coords.reshape(-1, 2, 2).swapaxes(1, 2).reshape(-1, 2)  # (2N,  2)\n",
    "\n",
    "# segments\n",
    "ax.plot(*ab_args)\n",
    "\n",
    "# identify points: a in blue, b in red\n",
    "plt.show()\n"
   ]
  }
 ],
 "metadata": {
  "kernelspec": {
   "display_name": "bim",
   "language": "python",
   "name": "python3"
  },
  "language_info": {
   "codemirror_mode": {
    "name": "ipython",
    "version": 3
   },
   "file_extension": ".py",
   "mimetype": "text/x-python",
   "name": "python",
   "nbconvert_exporter": "python",
   "pygments_lexer": "ipython3",
   "version": "3.8.19"
  }
 },
 "nbformat": 4,
 "nbformat_minor": 2
}
