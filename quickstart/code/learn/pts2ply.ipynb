{
 "cells": [
  {
   "cell_type": "code",
   "execution_count": null,
   "metadata": {},
   "outputs": [],
   "source": [
    "from tqdm import tqdm\n",
    "from pathlib import Path\n",
    "import open3d as o3d\n"
   ]
  },
  {
   "cell_type": "code",
   "execution_count": 12,
   "metadata": {},
   "outputs": [],
   "source": [
    "filename = Path(\"S_29_0001_2_I\")\n",
    "data_path = Path(\"quickstart/data/aihub\")\n",
    "get_suffix = lambda ext: data_path / filename.with_suffix(ext)\n"
   ]
  },
  {
   "cell_type": "code",
   "execution_count": 13,
   "metadata": {},
   "outputs": [],
   "source": [
    "# pts 파일 읽기\n",
    "with open(get_suffix(\".pts\"), \"r\") as f:\n",
    "    lines = f.readlines()\n"
   ]
  },
  {
   "cell_type": "code",
   "execution_count": 28,
   "metadata": {},
   "outputs": [],
   "source": [
    "# pts 파일을 xyzrgb 형식에 맞게 전처리 후 파일 생성\n",
    "if not get_suffix(\".xyzrgb\").exists():\n",
    "    with open(get_suffix(\".xyzrgb\"), \"w\") as f:\n",
    "        for line in tqdm(lines):\n",
    "            x, y, z, r, g, b, *_ = line.split(\" \")\n",
    "            f.write(\n",
    "                \" \".join(\n",
    "                    [\n",
    "                        x,\n",
    "                        y,\n",
    "                        z,\n",
    "                        str(float(r) / 255.0),\n",
    "                        str(float(g) / 255.0),\n",
    "                        str(float(b) / 255.0),\n",
    "                    ]\n",
    "                )\n",
    "            )\n",
    "            f.write(\"\\n\")\n"
   ]
  },
  {
   "cell_type": "code",
   "execution_count": null,
   "metadata": {},
   "outputs": [],
   "source": [
    "# Open3d를 사용하요 xyzrgb파일을 ply로 변환\n",
    "pcd = o3d.io.read_point_cloud(get_suffix(\".xyzrgb\").as_posix())\n",
    "if not get_suffix(\".ply\").exists():\n",
    "    o3d.io.write_point_cloud(get_suffix(\".ply\").as_posix(), pcd, write_ascii=True)\n"
   ]
  }
 ],
 "metadata": {
  "kernelspec": {
   "display_name": "bim",
   "language": "python",
   "name": "python3"
  },
  "language_info": {
   "codemirror_mode": {
    "name": "ipython",
    "version": 3
   },
   "file_extension": ".py",
   "mimetype": "text/x-python",
   "name": "python",
   "nbconvert_exporter": "python",
   "pygments_lexer": "ipython3",
   "version": "3.8.19"
  }
 },
 "nbformat": 4,
 "nbformat_minor": 2
}
