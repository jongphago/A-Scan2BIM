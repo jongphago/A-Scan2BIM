{
 "cells": [
  {
   "cell_type": "code",
   "execution_count": null,
   "metadata": {},
   "outputs": [],
   "source": [
    "import os\n",
    "from tqdm import tqdm\n",
    "import numpy as np\n",
    "import open3d as o3d\n",
    "import matplotlib.pyplot as plt\n",
    "from open3d.web_visualizer import draw\n"
   ]
  },
  {
   "cell_type": "code",
   "execution_count": 2,
   "metadata": {},
   "outputs": [],
   "source": [
    "from quickstart.data import point_cloud_data\n",
    "from quickstart.code.preprocess.data_gen import crop_pc_z, get_density\n"
   ]
  },
  {
   "cell_type": "markdown",
   "metadata": {},
   "source": [
    "# Load point cloud data"
   ]
  },
  {
   "cell_type": "code",
   "execution_count": 3,
   "metadata": {},
   "outputs": [],
   "source": [
    "filename = \"S_29_0001_2_I\"\n",
    "pcd_path = f\"quickstart/data/aihub/{filename}.ply\"\n",
    "pcd = point_cloud_data.read_point_cloud(pcd_path)  # PointCloud with 1,941,471 points.\n"
   ]
  },
  {
   "cell_type": "code",
   "execution_count": null,
   "metadata": {},
   "outputs": [],
   "source": [
    "# also meters to feet  :1397\n",
    "pcd.points = o3d.utility.Vector3dVector(np.array(pcd.points) / 0.3048)\n",
    "np.asarray(pcd.points).shape  # (1941471, 3)\n"
   ]
  },
  {
   "cell_type": "code",
   "execution_count": null,
   "metadata": {},
   "outputs": [],
   "source": [
    "bounds_min = pcd.get_min_bound()\n",
    "bounds_max = pcd.get_max_bound()\n",
    "\n",
    "print(f\"bounds_min: {bounds_min}\")\n",
    "print(f\"bounds_max: {bounds_max}\")\n"
   ]
  },
  {
   "cell_type": "code",
   "execution_count": 6,
   "metadata": {},
   "outputs": [],
   "source": [
    "# determine point cloud bounds\n",
    "bounds_minx, bounds_miny, _ = bounds_min * 12 - 15\n",
    "bounds_maxx, bounds_maxy, _ = bounds_max * 12 + 15\n",
    "\n",
    "h = round(bounds_maxy - bounds_miny)\n",
    "w = round(bounds_maxx - bounds_minx)\n",
    "\n",
    "# Cropping point cloud according to bound\n",
    "bounds = np.array([bounds_minx, bounds_miny, bounds_maxx, bounds_maxy])\n",
    "\n",
    "bounds_ft = bounds / 12\n"
   ]
  },
  {
   "cell_type": "markdown",
   "metadata": {},
   "source": [
    "# Crop\n"
   ]
  },
  {
   "cell_type": "code",
   "execution_count": null,
   "metadata": {},
   "outputs": [],
   "source": [
    "from quickstart.code.preprocess.data_gen import crop_pc\n",
    "\n",
    "cropped_pcd = crop_pc(pcd, bounds_ft)\n",
    "np.asarray(cropped_pcd.points).shape  # (1941471, 3)\n"
   ]
  },
  {
   "cell_type": "code",
   "execution_count": null,
   "metadata": {},
   "outputs": [],
   "source": [
    "# 크롭된 포인트 클라우드 시각화\n",
    "draw([cropped_pcd])\n"
   ]
  },
  {
   "cell_type": "markdown",
   "metadata": {},
   "source": [
    "# Slicing"
   ]
  },
  {
   "cell_type": "markdown",
   "metadata": {},
   "source": [
    "## Slicing intervals"
   ]
  },
  {
   "cell_type": "code",
   "execution_count": null,
   "metadata": {},
   "outputs": [],
   "source": [
    "min_z = bounds_min[-1]\n",
    "max_z = bounds_max[-1]\n",
    "slice_intervals = np.linspace(min_z, max_z, 8)\n"
   ]
  },
  {
   "cell_type": "code",
   "execution_count": 10,
   "metadata": {},
   "outputs": [],
   "source": [
    "center_slice_points = []\n",
    "for cz in slice_intervals:\n",
    "    cx, cy, _ = (bounds_min + bounds_max) / 2\n",
    "    center_slice_points.append([cx, cy, cz])\n",
    "centers_pcd = o3d.geometry.PointCloud(o3d.utility.Vector3dVector(center_slice_points))\n"
   ]
  },
  {
   "cell_type": "code",
   "execution_count": null,
   "metadata": {},
   "outputs": [],
   "source": [
    "centers_pcd.colors = o3d.utility.Vector3dVector(\n",
    "    np.array([[1, 0, 0] for _ in range(len(center_slice_points))])\n",
    ")\n",
    "draw([cropped_pcd, centers_pcd])\n"
   ]
  },
  {
   "cell_type": "markdown",
   "metadata": {},
   "source": [
    "## Slice"
   ]
  },
  {
   "cell_type": "code",
   "execution_count": null,
   "metadata": {},
   "outputs": [],
   "source": [
    "_length = (pcd.get_max_bound() * 12 - 15) - (pcd.get_min_bound() * 12 + 15)\n",
    "length = _length.astype(int)\n",
    "width, height, _ = length\n"
   ]
  },
  {
   "cell_type": "code",
   "execution_count": null,
   "metadata": {},
   "outputs": [],
   "source": [
    "density_slices = []\n",
    "for slice_i, (slice_minz, slice_maxz) in enumerate(\n",
    "    tqdm(list(zip(slice_intervals[:-1], slice_intervals[1:])))\n",
    "):\n",
    "    sliced_pcd = crop_pc_z(cropped_pcd, slice_minz, slice_maxz)  # (700200, 3)\n",
    "    density_slice = get_density(\n",
    "        sliced_pcd,  # (700200, 3)\n",
    "        bounds_ft,  # [-1, -1, 26, 17]\n",
    "        width,  # 269\n",
    "        height,  # 160\n",
    "    )\n",
    "    density_slices.append(density_slice)\n"
   ]
  },
  {
   "cell_type": "markdown",
   "metadata": {},
   "source": [
    "## Caching density slice"
   ]
  },
  {
   "cell_type": "code",
   "execution_count": 16,
   "metadata": {},
   "outputs": [],
   "source": [
    "if not os.path.exists(f\"quickstart/data/density/{filename}\"):\n",
    "    os.makedirs(f\"quickstart/data/density/{filename}\")\n",
    "    for i in range(7):\n",
    "        npy_path = f\"quickstart/data/density/{filename}/density_{i:02d}.npy\"\n",
    "        np.save(npy_path, density_slices[i])\n"
   ]
  },
  {
   "cell_type": "markdown",
   "metadata": {},
   "source": [
    "## Visualize density slice"
   ]
  },
  {
   "cell_type": "code",
   "execution_count": 17,
   "metadata": {},
   "outputs": [],
   "source": [
    "density_slices = []\n",
    "for i in range(7):\n",
    "    npy_path = f\"quickstart/data/density/{filename}/density_{i:02d}.npy\"\n",
    "    density_map = np.load(npy_path)\n",
    "    density_slices.append(density_map)\n"
   ]
  },
  {
   "cell_type": "code",
   "execution_count": null,
   "metadata": {},
   "outputs": [],
   "source": [
    "num_plot = len(density_slices)  # 7\n",
    "fig, axs = plt.subplots(3, 3, figsize=(15, 10))\n",
    "for i in range(9):  # 0..6\n",
    "    ax = axs[i // 3, i % 3]\n",
    "    if i >= num_plot:\n",
    "        ax.set_visible(False)\n",
    "        ax.axis(\"off\")\n",
    "    else:\n",
    "        ax.imshow(density_slices[i])\n",
    "plt.show()\n"
   ]
  },
  {
   "cell_type": "code",
   "execution_count": null,
   "metadata": {},
   "outputs": [],
   "source": []
  }
 ],
 "metadata": {
  "kernelspec": {
   "display_name": "bim",
   "language": "python",
   "name": "python3"
  },
  "language_info": {
   "codemirror_mode": {
    "name": "ipython",
    "version": 3
   },
   "file_extension": ".py",
   "mimetype": "text/x-python",
   "name": "python",
   "nbconvert_exporter": "python",
   "pygments_lexer": "ipython3",
   "version": "3.8.19"
  }
 },
 "nbformat": 4,
 "nbformat_minor": 2
}
