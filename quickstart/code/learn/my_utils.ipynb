{
 "cells": [
  {
   "cell_type": "code",
   "execution_count": null,
   "metadata": {},
   "outputs": [],
   "source": [
    "import os\n",
    "from tqdm import tqdm\n",
    "import numpy as np\n",
    "import open3d as o3d\n",
    "import matplotlib.pyplot as plt\n",
    "from open3d.web_visualizer import draw\n"
   ]
  },
  {
   "cell_type": "code",
   "execution_count": 2,
   "metadata": {},
   "outputs": [],
   "source": [
    "from quickstart.data import point_cloud_data\n",
    "from quickstart.code.preprocess.data_gen import crop_pc_z, get_density\n"
   ]
  },
  {
   "cell_type": "markdown",
   "metadata": {},
   "source": [
    "# Load point cloud data"
   ]
  },
  {
   "cell_type": "code",
   "execution_count": null,
   "metadata": {},
   "outputs": [],
   "source": [
    "pcd_path = \"quickstart/data/aihub/S_01_0001_1_I.ply\"\n",
    "pcd = point_cloud_data.read_point_cloud(pcd_path)\n",
    "pcd  # PointCloud with 1941471 points.\n"
   ]
  },
  {
   "cell_type": "markdown",
   "metadata": {},
   "source": [
    "# Oriented Object Bounding Box"
   ]
  },
  {
   "cell_type": "code",
   "execution_count": null,
   "metadata": {},
   "outputs": [],
   "source": [
    "bbox = o3d.geometry.OrientedBoundingBox.create_from_points(pcd.points)\n",
    "bbox  # OrientedBoundingBox\n"
   ]
  },
  {
   "cell_type": "markdown",
   "metadata": {},
   "source": [
    "# Crop\n"
   ]
  },
  {
   "cell_type": "code",
   "execution_count": 5,
   "metadata": {},
   "outputs": [],
   "source": [
    "# 바운딩 박스 내에 있는 포인트들만 크롭\n",
    "cropped_pcd = pcd.crop(bbox)\n"
   ]
  },
  {
   "cell_type": "code",
   "execution_count": null,
   "metadata": {},
   "outputs": [],
   "source": [
    "# 크롭된 포인트 클라우드 시각화\n",
    "draw([cropped_pcd])\n"
   ]
  },
  {
   "cell_type": "markdown",
   "metadata": {},
   "source": [
    "# Slicing"
   ]
  },
  {
   "cell_type": "markdown",
   "metadata": {},
   "source": [
    "## Slicing intervals"
   ]
  },
  {
   "cell_type": "code",
   "execution_count": null,
   "metadata": {},
   "outputs": [],
   "source": [
    "min_z = bbox.get_min_bound()[-1]\n",
    "max_z = bbox.get_max_bound()[-1]\n",
    "slice_intervals = np.linspace(min_z, max_z, 10)[1:-1]\n",
    "slice_intervals\n"
   ]
  },
  {
   "cell_type": "code",
   "execution_count": 8,
   "metadata": {},
   "outputs": [],
   "source": [
    "center_slice_points = []\n",
    "for cz in slice_intervals:\n",
    "    cx, cy, _ = bbox.center\n",
    "    center_slice_points.append([cx, cy, cz])\n",
    "centers_pcd = o3d.geometry.PointCloud(o3d.utility.Vector3dVector(center_slice_points))\n"
   ]
  },
  {
   "cell_type": "code",
   "execution_count": null,
   "metadata": {},
   "outputs": [],
   "source": [
    "centers_pcd.colors = o3d.utility.Vector3dVector(\n",
    "    np.array([[1, 0, 0] for _ in range(len(center_slice_points))])\n",
    ")\n",
    "draw([cropped_pcd, centers_pcd])\n"
   ]
  },
  {
   "cell_type": "markdown",
   "metadata": {},
   "source": [
    "## Bounds"
   ]
  },
  {
   "cell_type": "code",
   "execution_count": 10,
   "metadata": {},
   "outputs": [],
   "source": [
    "bounds = (*bbox.get_min_bound()[:2], *bbox.get_max_bound()[:2])\n"
   ]
  },
  {
   "cell_type": "markdown",
   "metadata": {},
   "source": [
    "## Slice"
   ]
  },
  {
   "cell_type": "code",
   "execution_count": null,
   "metadata": {},
   "outputs": [],
   "source": [
    "width, height = 1462, 1462\n",
    "density_slices = []\n",
    "for slice_i, (slice_minz, slice_maxz) in enumerate(\n",
    "    tqdm(list(zip(slice_intervals[:-1], slice_intervals[1:])))\n",
    "):\n",
    "    sliced_pcd = crop_pc_z(cropped_pcd, slice_minz, slice_maxz)\n",
    "    density_slice = get_density(sliced_pcd, bounds, width, height)\n",
    "    density_slices.append(density_slice)\n"
   ]
  },
  {
   "cell_type": "code",
   "execution_count": 14,
   "metadata": {},
   "outputs": [],
   "source": [
    "floor_name = \"S_01_0001_1_I\"\n",
    "if not os.path.exists(f\"quickstart/data/density/{floor_name}\"):\n",
    "    os.makedirs(f\"quickstart/data/density/{floor_name}\")\n",
    "    for i in range(7):\n",
    "        npy_path = f\"quickstart/data/density/{floor_name}/density_{i:02d}.npy\"\n",
    "        np.save(npy_path, density_slices[i])\n"
   ]
  },
  {
   "cell_type": "code",
   "execution_count": null,
   "metadata": {},
   "outputs": [],
   "source": [
    "num_plot = len(density_slices)  # 7\n",
    "fig, axs = plt.subplots(3, 3, figsize=(15, 15))\n",
    "for i in range(9):  # 0..6\n",
    "    ax = axs[i // 3, i % 3]\n",
    "    if i >= num_plot:\n",
    "        ax.set_visible(False)\n",
    "        ax.axis(\"off\")\n",
    "    else:\n",
    "        ax.imshow(density_slices[i])\n",
    "plt.show()\n"
   ]
  }
 ],
 "metadata": {
  "kernelspec": {
   "display_name": "bim",
   "language": "python",
   "name": "python3"
  },
  "language_info": {
   "codemirror_mode": {
    "name": "ipython",
    "version": 3
   },
   "file_extension": ".py",
   "mimetype": "text/x-python",
   "name": "python",
   "nbconvert_exporter": "python",
   "pygments_lexer": "ipython3",
   "version": "3.8.19"
  }
 },
 "nbformat": 4,
 "nbformat_minor": 2
}
